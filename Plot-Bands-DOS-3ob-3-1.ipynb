{
 "cells": [
  {
   "cell_type": "code",
   "execution_count": null,
   "metadata": {
    "vscode": {
     "languageId": "plaintext"
    }
   },
   "outputs": [],
   "source": [
    "import numpy as np\n",
    "\n",
    "import seaborn as sns\n",
    "import matplotlib.pylab as plt\n",
    "from matplotlib import rcParams\n",
    "import matplotlib.colors as colors\n",
    "import matplotlib.cbook as cbook\n",
    "from matplotlib.lines import Line2D\n",
    "\n",
    "rcParams.update({'figure.autolayout': True})\n",
    "sns.set_style(\"whitegrid\", rc={\"axes.edgecolor\": \"k\"})\n",
    "sns.set_style(\"ticks\", {\"xtick.major.size\":8,\"ytick.major.size\":8})\n",
    "\n",
    "sns.set_context(\"notebook\",rc={\"grid.linewidth\": 0, \n",
    "                            \"font.family\":\"Helvetica\", \"axes.labelsize\":24.,\"xtick.labelsize\":24., \n",
    "                            \"ytick.labelsize\":24., \"legend.fontsize\":20.})"
   ]
  },
  {
   "cell_type": "code",
   "execution_count": null,
   "metadata": {
    "vscode": {
     "languageId": "plaintext"
    }
   },
   "outputs": [],
   "source": [
    "bands = np.array(np.loadtxt('./bands/bands_tot.dat'))\n",
    "bands_fermi = -3.5515\n",
    "dos_fermi = -3.5430\n",
    "\n",
    "dos = np.array(np.loadtxt('./dos/dos_tot.dat'))\n",
    "pdos_c = np.array(np.loadtxt('./dos/dos_C.p.dat'))\n",
    "pdos_o = np.array(np.loadtxt('./dos/dos_O.p.dat'))\n",
    "pdos_n = np.array(np.loadtxt('./dos/dos_N.p.dat'))\n",
    "pdos_h = np.array(np.loadtxt('./dos/dos_H.s.dat'))"
   ]
  },
  {
   "cell_type": "code",
   "execution_count": null,
   "metadata": {
    "vscode": {
     "languageId": "plaintext"
    }
   },
   "outputs": [],
   "source": [
    "fig = plt.figure(figsize=(12,8))\n",
    "plt.subplot(121)\n",
    "plt.plot(bands-bands_fermi, color='black', lw=3)\n",
    "plt.ylim(-3,3)\n",
    "plt.xticks([0,19,39,59,79], ['\\u0393', 'K', 'M', '\\u0393','A'])\n",
    "plt.xlim(0,79)\n",
    "plt.ylabel('Energy (eV)', labelpad=5)\n",
    "plt.subplot(122)\n",
    "plt.plot(dos[:,1], dos[:,0]-dos_fermi, color='black', lw=3)\n",
    "plt.ylim(-3,3)\n",
    "plt.xlabel('DOS (arb. units)', labelpad=5)\n",
    "plt.show()"
   ]
  },
  {
   "cell_type": "code",
   "execution_count": null,
   "metadata": {
    "vscode": {
     "languageId": "plaintext"
    }
   },
   "outputs": [],
   "source": [
    "fig = plt.figure(figsize=(12,8))\n",
    "plt.plot(dos[:,0]-dos_fermi, dos[:,1], color='black', lw=3)\n",
    "plt.plot(pdos_c[:,0]-dos_fermi, pdos_c[:,1], color='grey', lw=2, label='PDOS_C')\n",
    "plt.plot(pdos_o[:,0]-dos_fermi, pdos_o[:,1], color='red', lw=2, label='PDOS_O')\n",
    "plt.plot(pdos_n[:,0]-dos_fermi, pdos_n[:,1], color='tab:blue', lw=2, label='PDOS_N')\n",
    "plt.xlim(-3,3)\n",
    "plt.show()"
   ]
  }
 ],
 "metadata": {
  "language_info": {
   "name": "python"
  }
 },
 "nbformat": 4,
 "nbformat_minor": 2
}
